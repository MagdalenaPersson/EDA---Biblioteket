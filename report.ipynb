{
 "cells": [
  {
   "cell_type": "code",
   "execution_count": 4,
   "id": "03f83f92",
   "metadata": {},
   "outputs": [
    {
     "ename": "ImportError",
     "evalue": "cannot import name 'coerce_numeric' from 'src.io_utils' (c:\\Users\\magda\\OneDrive\\Desktop\\EDA - Bibliotek\\src\\io_utils.py)",
     "output_type": "error",
     "traceback": [
      "\u001b[31m---------------------------------------------------------------------------\u001b[39m",
      "\u001b[31mImportError\u001b[39m                               Traceback (most recent call last)",
      "\u001b[36mCell\u001b[39m\u001b[36m \u001b[39m\u001b[32mIn[4]\u001b[39m\u001b[32m, line 1\u001b[39m\n\u001b[32m----> \u001b[39m\u001b[32m1\u001b[39m \u001b[38;5;28;01mfrom\u001b[39;00m\u001b[38;5;250m \u001b[39m\u001b[34;01msrc\u001b[39;00m\u001b[34;01m.\u001b[39;00m\u001b[34;01mio_utils\u001b[39;00m\u001b[38;5;250m \u001b[39m\u001b[38;5;28;01mimport\u001b[39;00m load_data, coerce_numeric\n\u001b[32m      3\u001b[39m df = coerce_numeric(load_data(\u001b[33m\"\u001b[39m\u001b[33mdata/library_loans.csv\u001b[39m\u001b[33m\"\u001b[39m))\n\u001b[32m      5\u001b[39m df.info()\n",
      "\u001b[31mImportError\u001b[39m: cannot import name 'coerce_numeric' from 'src.io_utils' (c:\\Users\\magda\\OneDrive\\Desktop\\EDA - Bibliotek\\src\\io_utils.py)"
     ]
    }
   ],
   "source": [
    "from src.io_utils import load_data, coerce_numeric\n",
    "\n",
    "df = coerce_numeric(load_data(\"data/library_loans.csv\"))\n",
    "\n",
    "df.info()\n",
    "\n",
    "\n"
   ]
  },
  {
   "cell_type": "code",
   "execution_count": null,
   "id": "963f7ca0",
   "metadata": {},
   "outputs": [],
   "source": []
  }
 ],
 "metadata": {
  "kernelspec": {
   "display_name": ".venv",
   "language": "python",
   "name": "python3"
  },
  "language_info": {
   "codemirror_mode": {
    "name": "ipython",
    "version": 3
   },
   "file_extension": ".py",
   "mimetype": "text/x-python",
   "name": "python",
   "nbconvert_exporter": "python",
   "pygments_lexer": "ipython3",
   "version": "3.13.7"
  }
 },
 "nbformat": 4,
 "nbformat_minor": 5
}

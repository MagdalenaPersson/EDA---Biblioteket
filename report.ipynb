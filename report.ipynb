{
 "cells": [
  {
   "cell_type": "code",
   "execution_count": null,
   "id": "03f83f92",
   "metadata": {},
   "outputs": [],
   "source": [
    "from src.io_utils import load_data, coerce_numeric\n",
    "\n",
    "df = coerce_numeric(load_data(\"data/library_loans.csv\"))\n",
    "df = df.dropna(subset=[\"loan_days\"]).copy()\n",
    "df = df[df[\"loan_days\"] > 0].copy()\n",
    "\n",
    "df[\"month\"] = df[\"checkout_date\"].dt.to_period(\"M\").dt.to_timestamp()\n",
    "df[\"week\"] = df[\"checkout_date\"].dt.to_period(\"W\").dt.start_time\n",
    "\n",
    "df.info()\n",
    "# df.head(3)\n"
   ]
  },
  {
   "cell_type": "code",
   "execution_count": null,
   "id": "963f7ca0",
   "metadata": {},
   "outputs": [],
   "source": [
    "from src import metrics as M\n",
    "\n",
    "print(\"Totalt antal lån:\", M.total_loans(df))\n",
    "print(\"Genomsnittlig lånetid (dagar:)\", f\"{M.avg_loan_days(df):.1f}\")\n",
    "print(\"Andel övertid (%)\", f\"{100 * M.overdue_rate(df):.1f}%\")"
   ]
  },
  {
   "cell_type": "code",
   "execution_count": null,
   "id": "2bea0a49",
   "metadata": {},
   "outputs": [],
   "source": [
    "by_genre = M.loans_by_genre(df)\n",
    "by_branch = M.loans_by_branch(df)\n",
    "by_genre\n",
    "by_branch"
   ]
  },
  {
   "cell_type": "code",
   "execution_count": null,
   "id": "7ce534aa",
   "metadata": {},
   "outputs": [],
   "source": [
    "ts_month = M.loans_over_time(df, freq=\"M\")\n",
    "ts_month.head()"
   ]
  },
  {
   "cell_type": "code",
   "execution_count": null,
   "id": "ca2c13e7",
   "metadata": {},
   "outputs": [],
   "source": [
    "import matplotlib.pyplot as plt\n",
    "from src import viz as V\n",
    "\n",
    "# Lån per genre\n",
    "fig, ax = plt.subplots(figsize=(9, 4))\n",
    "V.bar(ax, by_genre[\"genre\"], by_genre[\"loans\"], \"Lån per genre\", \"Genre\", \"Antal lån\")\n",
    "\n",
    "# Top-10 filialer\n",
    "fig, ax = plt.subplots(figsize=(9, 4))\n",
    "top_10 = by_branch.head(10)\n",
    "V.bar(ax, top_10[\"branch\"], top_10[\"loans\"], \"Topp 10 filialer\", \"Filial\", \"Antal lån\")\n",
    "\n",
    "# Lån per månad\n",
    "fig, ax = plt.subplots(figsize=(9, 4))\n",
    "V.line(ax, ts_month[\"checkout_date\"], ts_month[\"loans\"], \"Lån per månad\", \"Månad\", \"Antal lån\")"
   ]
  }
 ],
 "metadata": {
  "kernelspec": {
   "display_name": ".venv",
   "language": "python",
   "name": "python3"
  },
  "language_info": {
   "codemirror_mode": {
    "name": "ipython",
    "version": 3
   },
   "file_extension": ".py",
   "mimetype": "text/x-python",
   "name": "python",
   "nbconvert_exporter": "python",
   "pygments_lexer": "ipython3",
   "version": "3.13.7"
  }
 },
 "nbformat": 4,
 "nbformat_minor": 5
}

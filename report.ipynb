{
 "cells": [
  {
   "cell_type": "code",
   "execution_count": null,
   "id": "03f83f92",
   "metadata": {},
   "outputs": [],
   "source": [
    "from src.io_utils import load_data, coerce_numeric\n",
    "\n",
    "df = coerce_numeric(load_data(\"data/library_loans.csv\"))\n",
    "df = df.dropna(subset=[\"loan_days\"]).copy()\n",
    "df = df[df[\"loan_days\"] > 0].copy()\n",
    "\n",
    "df[\"month\"] = df[\"checkout_date\"].dt.to_period(\"M\").dt.to_timestamp()\n",
    "df[\"week\"] = df[\"checkout_date\"].dt.to_period(\"W\").dt.start_time\n",
    "\n",
    "df.info()\n",
    "# df.head(3)\n"
   ]
  },
  {
   "cell_type": "code",
   "execution_count": 12,
   "id": "963f7ca0",
   "metadata": {},
   "outputs": [
    {
     "name": "stdout",
     "output_type": "stream",
     "text": [
      "Totalt antal lån: 30\n",
      "Genomsnittlig lånetid (dagar:) 15.6\n",
      "Andel övertid (%) 50.0%\n"
     ]
    }
   ],
   "source": [
    "from src import metrics as M\n",
    "\n",
    "print(\"Totalt antal lån:\", M.total_loans(df))\n",
    "print(\"Genomsnittlig lånetid (dagar:)\", f\"{M.avg_loan_days(df):.1f}\")\n",
    "print(\"Andel övertid (%)\", f\"{100 * M.overdue_rate(df):.1f}%\")"
   ]
  },
  {
   "cell_type": "code",
   "execution_count": null,
   "id": "2bea0a49",
   "metadata": {},
   "outputs": [],
   "source": []
  }
 ],
 "metadata": {
  "kernelspec": {
   "display_name": ".venv",
   "language": "python",
   "name": "python3"
  },
  "language_info": {
   "codemirror_mode": {
    "name": "ipython",
    "version": 3
   },
   "file_extension": ".py",
   "mimetype": "text/x-python",
   "name": "python",
   "nbconvert_exporter": "python",
   "pygments_lexer": "ipython3",
   "version": "3.13.7"
  }
 },
 "nbformat": 4,
 "nbformat_minor": 5
}

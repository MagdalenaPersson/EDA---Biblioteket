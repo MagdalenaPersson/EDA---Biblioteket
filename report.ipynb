{
 "cells": [
  {
   "cell_type": "code",
   "execution_count": 1,
   "id": "03f83f92",
   "metadata": {},
   "outputs": [
    {
     "name": "stdout",
     "output_type": "stream",
     "text": [
      "<class 'pandas.core.frame.DataFrame'>\n",
      "RangeIndex: 30 entries, 0 to 29\n",
      "Data columns (total 12 columns):\n",
      " #   Column            Non-Null Count  Dtype         \n",
      "---  ------            --------------  -----         \n",
      " 0   loan_id           30 non-null     object        \n",
      " 1   checkout_date     30 non-null     datetime64[ns]\n",
      " 2   branch            30 non-null     object        \n",
      " 3   genre             30 non-null     object        \n",
      " 4   item_type         30 non-null     object        \n",
      " 5   patron_age_group  30 non-null     object        \n",
      " 6   loan_days         30 non-null     int64         \n",
      " 7   returned_date     30 non-null     datetime64[ns]\n",
      " 8   overdue_days      30 non-null     int64         \n",
      " 9   fine_amount       30 non-null     float64       \n",
      " 10  month             30 non-null     datetime64[ns]\n",
      " 11  week              30 non-null     datetime64[ns]\n",
      "dtypes: datetime64[ns](4), float64(1), int64(2), object(5)\n",
      "memory usage: 2.9+ KB\n"
     ]
    }
   ],
   "source": [
    "import pandas as pd\n",
    "from src.io_utils import load_data, coerce_numeric\n",
    "\n",
    "df = coerce_numeric(load_data(\"data/library_loans.csv\"))\n",
    "df = df.dropna(subset=[\"loan_days\"]).copy()\n",
    "df = df[df[\"loan_days\"] > 0].copy()\n",
    "\n",
    "df[\"month\"] = df[\"checkout_date\"].dt.to_period(\"M\").dt.to_timestamp()\n",
    "df[\"week\"] = df[\"checkout_date\"].dt.to_period(\"W\").dt.start_time\n",
    "\n",
    "df.info()\n",
    "# df.head(3)"
   ]
  },
  {
   "cell_type": "code",
   "execution_count": 2,
   "id": "963f7ca0",
   "metadata": {},
   "outputs": [
    {
     "name": "stdout",
     "output_type": "stream",
     "text": [
      "Totalt antal lån: 30\n",
      "Genomsnittlig lånetid (dagar:) 15.6\n",
      "Andel övertid (%) 50.0%\n"
     ]
    }
   ],
   "source": [
    "from src import metrics as M\n",
    "\n",
    "print(\"Totalt antal lån:\", M.total_loans(df))\n",
    "print(\"Genomsnittlig lånetid (dagar:)\", f\"{M.avg_loan_days(df):.1f}\")\n",
    "print(\"Andel övertid (%)\", f\"{100 * M.overdue_rate(df):.1f}%\")"
   ]
  },
  {
   "cell_type": "code",
   "execution_count": 3,
   "id": "2bea0a49",
   "metadata": {},
   "outputs": [
    {
     "data": {
      "text/html": [
       "<div>\n",
       "<style scoped>\n",
       "    .dataframe tbody tr th:only-of-type {\n",
       "        vertical-align: middle;\n",
       "    }\n",
       "\n",
       "    .dataframe tbody tr th {\n",
       "        vertical-align: top;\n",
       "    }\n",
       "\n",
       "    .dataframe thead th {\n",
       "        text-align: right;\n",
       "    }\n",
       "</style>\n",
       "<table border=\"1\" class=\"dataframe\">\n",
       "  <thead>\n",
       "    <tr style=\"text-align: right;\">\n",
       "      <th></th>\n",
       "      <th>branch</th>\n",
       "      <th>loans</th>\n",
       "    </tr>\n",
       "  </thead>\n",
       "  <tbody>\n",
       "    <tr>\n",
       "      <th>0</th>\n",
       "      <td>Lund Central</td>\n",
       "      <td>8</td>\n",
       "    </tr>\n",
       "    <tr>\n",
       "      <th>1</th>\n",
       "      <td>Stockholm Söder</td>\n",
       "      <td>6</td>\n",
       "    </tr>\n",
       "    <tr>\n",
       "      <th>2</th>\n",
       "      <td>Malmö City</td>\n",
       "      <td>6</td>\n",
       "    </tr>\n",
       "    <tr>\n",
       "      <th>3</th>\n",
       "      <td>Göteborg Centrum</td>\n",
       "      <td>5</td>\n",
       "    </tr>\n",
       "    <tr>\n",
       "      <th>4</th>\n",
       "      <td>Uppsala Stadsbibliotek</td>\n",
       "      <td>5</td>\n",
       "    </tr>\n",
       "  </tbody>\n",
       "</table>\n",
       "</div>"
      ],
      "text/plain": [
       "                   branch  loans\n",
       "0            Lund Central      8\n",
       "1         Stockholm Söder      6\n",
       "2              Malmö City      6\n",
       "3        Göteborg Centrum      5\n",
       "4  Uppsala Stadsbibliotek      5"
      ]
     },
     "execution_count": 3,
     "metadata": {},
     "output_type": "execute_result"
    }
   ],
   "source": [
    "by_genre = M.loans_by_genre(df)\n",
    "by_branch = M.loans_by_branch(df)\n",
    "by_genre\n",
    "by_branch"
   ]
  },
  {
   "cell_type": "code",
   "execution_count": 4,
   "id": "7ce534aa",
   "metadata": {},
   "outputs": [
    {
     "name": "stderr",
     "output_type": "stream",
     "text": [
      "c:\\Users\\magda\\OneDrive\\Desktop\\EDA - Bibliotek\\src\\metrics.py:42: FutureWarning: 'M' is deprecated and will be removed in a future version, please use 'ME' instead.\n",
      "  .resample(freq)[\"loan_id\"]\n"
     ]
    },
    {
     "data": {
      "text/html": [
       "<div>\n",
       "<style scoped>\n",
       "    .dataframe tbody tr th:only-of-type {\n",
       "        vertical-align: middle;\n",
       "    }\n",
       "\n",
       "    .dataframe tbody tr th {\n",
       "        vertical-align: top;\n",
       "    }\n",
       "\n",
       "    .dataframe thead th {\n",
       "        text-align: right;\n",
       "    }\n",
       "</style>\n",
       "<table border=\"1\" class=\"dataframe\">\n",
       "  <thead>\n",
       "    <tr style=\"text-align: right;\">\n",
       "      <th></th>\n",
       "      <th>checkout_date</th>\n",
       "      <th>loans</th>\n",
       "    </tr>\n",
       "  </thead>\n",
       "  <tbody>\n",
       "    <tr>\n",
       "      <th>0</th>\n",
       "      <td>2025-01-31</td>\n",
       "      <td>3</td>\n",
       "    </tr>\n",
       "    <tr>\n",
       "      <th>1</th>\n",
       "      <td>2025-02-28</td>\n",
       "      <td>5</td>\n",
       "    </tr>\n",
       "    <tr>\n",
       "      <th>2</th>\n",
       "      <td>2025-03-31</td>\n",
       "      <td>4</td>\n",
       "    </tr>\n",
       "    <tr>\n",
       "      <th>3</th>\n",
       "      <td>2025-04-30</td>\n",
       "      <td>2</td>\n",
       "    </tr>\n",
       "    <tr>\n",
       "      <th>4</th>\n",
       "      <td>2025-05-31</td>\n",
       "      <td>1</td>\n",
       "    </tr>\n",
       "  </tbody>\n",
       "</table>\n",
       "</div>"
      ],
      "text/plain": [
       "  checkout_date  loans\n",
       "0    2025-01-31      3\n",
       "1    2025-02-28      5\n",
       "2    2025-03-31      4\n",
       "3    2025-04-30      2\n",
       "4    2025-05-31      1"
      ]
     },
     "execution_count": 4,
     "metadata": {},
     "output_type": "execute_result"
    }
   ],
   "source": [
    "ts_month = M.loans_over_time(df, freq=\"M\")\n",
    "ts_month.head()"
   ]
  },
  {
   "cell_type": "code",
   "execution_count": 8,
   "id": "ca2c13e7",
   "metadata": {},
   "outputs": [
    {
     "data": {
      "image/png": "[encoded data removed]",
      "text/plain": [
       "<Figure size 900x400 with 1 Axes>"
      ]
     },
     "metadata": {},
     "output_type": "display_data"
    },
    {
     "data": {
      "image/png": "[encoded data removed]",
      "text/plain": [
       "<Figure size 900x400 with 1 Axes>"
      ]
     },
     "metadata": {},
     "output_type": "display_data"
    },
    {
     "data": {
      "image/png": "[encoded data removed]",
      "text/plain": [
       "<Figure size 900x400 with 1 Axes>"
      ]
     },
     "metadata": {},
     "output_type": "display_data"
    },
    {
     "data": {
      "image/png": "[encoded data removed]",
      "text/plain": [
       "<Figure size 900x400 with 1 Axes>"
      ]
     },
     "metadata": {},
     "output_type": "display_data"
    }
   ],
   "source": [
    "import matplotlib.pyplot as plt\n",
    "from src import viz as V\n",
    "\n",
    "# Lån per genre\n",
    "fig, ax = plt.subplots(figsize=(9, 4))\n",
    "V.bar(ax, by_genre[\"genre\"], by_genre[\"loans\"], \"Lån per genre\", \"Genre\", \"Antal lån\")\n",
    "plt.savefig(\"images/fig_loans_by_genre.png\", dpi=200)\n",
    "\n",
    "# Top-10 filialer\n",
    "fig, ax = plt.subplots(figsize=(9, 4))\n",
    "top_10 = by_branch.head(10)\n",
    "V.bar(ax, top_10[\"branch\"], top_10[\"loans\"], \"Topp 10 filialer\", \"Filial\", \"Antal lån\")\n",
    "plt.savefig(\"images/fig_top10_branches.png\", dpi=200)\n",
    "\n",
    "# Lån per månad\n",
    "fig, ax = plt.subplots(figsize=(9, 4))\n",
    "V.line(ax, ts_month[\"checkout_date\"], ts_month[\"loans\"], \"Lån per månad\", \"Månad\", \"Antal lån\")\n",
    "plt.savefig(\"images/fig_loans_over_months.png\", dpi=200)\n",
    "\n",
    "# Spridning av lånetid\n",
    "fig, ax = plt.subplots(figsize=(9, 4))\n",
    "V.box_h(ax, df[\"loan_days\"], \"Lånetid - spridning\", \"Dagar\")\n",
    "plt.savefig(\"images/fig_loan_days_box.png\", dpi=200)"
   ]
  },
  {
   "cell_type": "code",
   "execution_count": 9,
   "id": "a57a58be",
   "metadata": {},
   "outputs": [
    {
     "data": {
      "text/html": [
       "<div>\n",
       "<style scoped>\n",
       "    .dataframe tbody tr th:only-of-type {\n",
       "        vertical-align: middle;\n",
       "    }\n",
       "\n",
       "    .dataframe tbody tr th {\n",
       "        vertical-align: top;\n",
       "    }\n",
       "\n",
       "    .dataframe thead th {\n",
       "        text-align: right;\n",
       "    }\n",
       "</style>\n",
       "<table border=\"1\" class=\"dataframe\">\n",
       "  <thead>\n",
       "    <tr style=\"text-align: right;\">\n",
       "      <th>genre</th>\n",
       "      <th>Biography</th>\n",
       "      <th>Children</th>\n",
       "      <th>Fantasy</th>\n",
       "      <th>Fiction</th>\n",
       "      <th>History</th>\n",
       "      <th>Mystery</th>\n",
       "      <th>Non-fiction</th>\n",
       "      <th>Science</th>\n",
       "      <th>All</th>\n",
       "    </tr>\n",
       "    <tr>\n",
       "      <th>branch</th>\n",
       "      <th></th>\n",
       "      <th></th>\n",
       "      <th></th>\n",
       "      <th></th>\n",
       "      <th></th>\n",
       "      <th></th>\n",
       "      <th></th>\n",
       "      <th></th>\n",
       "      <th></th>\n",
       "    </tr>\n",
       "  </thead>\n",
       "  <tbody>\n",
       "    <tr>\n",
       "      <th>Göteborg Centrum</th>\n",
       "      <td>1</td>\n",
       "      <td>1</td>\n",
       "      <td>1</td>\n",
       "      <td>1</td>\n",
       "      <td>0</td>\n",
       "      <td>1</td>\n",
       "      <td>0</td>\n",
       "      <td>0</td>\n",
       "      <td>5</td>\n",
       "    </tr>\n",
       "    <tr>\n",
       "      <th>Lund Central</th>\n",
       "      <td>0</td>\n",
       "      <td>2</td>\n",
       "      <td>1</td>\n",
       "      <td>1</td>\n",
       "      <td>2</td>\n",
       "      <td>1</td>\n",
       "      <td>0</td>\n",
       "      <td>1</td>\n",
       "      <td>8</td>\n",
       "    </tr>\n",
       "    <tr>\n",
       "      <th>Malmö City</th>\n",
       "      <td>2</td>\n",
       "      <td>0</td>\n",
       "      <td>0</td>\n",
       "      <td>4</td>\n",
       "      <td>0</td>\n",
       "      <td>0</td>\n",
       "      <td>0</td>\n",
       "      <td>0</td>\n",
       "      <td>6</td>\n",
       "    </tr>\n",
       "    <tr>\n",
       "      <th>Stockholm Söder</th>\n",
       "      <td>1</td>\n",
       "      <td>0</td>\n",
       "      <td>2</td>\n",
       "      <td>1</td>\n",
       "      <td>1</td>\n",
       "      <td>1</td>\n",
       "      <td>0</td>\n",
       "      <td>0</td>\n",
       "      <td>6</td>\n",
       "    </tr>\n",
       "    <tr>\n",
       "      <th>Uppsala Stadsbibliotek</th>\n",
       "      <td>0</td>\n",
       "      <td>0</td>\n",
       "      <td>0</td>\n",
       "      <td>0</td>\n",
       "      <td>1</td>\n",
       "      <td>0</td>\n",
       "      <td>2</td>\n",
       "      <td>2</td>\n",
       "      <td>5</td>\n",
       "    </tr>\n",
       "  </tbody>\n",
       "</table>\n",
       "</div>"
      ],
      "text/plain": [
       "genre                   Biography  Children  Fantasy  Fiction  History  \\\n",
       "branch                                                                   \n",
       "Göteborg Centrum                1         1        1        1        0   \n",
       "Lund Central                    0         2        1        1        2   \n",
       "Malmö City                      2         0        0        4        0   \n",
       "Stockholm Söder                 1         0        2        1        1   \n",
       "Uppsala Stadsbibliotek          0         0        0        0        1   \n",
       "\n",
       "genre                   Mystery  Non-fiction  Science  All  \n",
       "branch                                                      \n",
       "Göteborg Centrum              1            0        0    5  \n",
       "Lund Central                  1            0        1    8  \n",
       "Malmö City                    0            0        0    6  \n",
       "Stockholm Söder               1            0        0    6  \n",
       "Uppsala Stadsbibliotek        0            2        2    5  "
      ]
     },
     "execution_count": 9,
     "metadata": {},
     "output_type": "execute_result"
    }
   ],
   "source": [
    "piv = pd.pivot_table(\n",
    "    df,\n",
    "    index=\"branch\",\n",
    "    columns=\"genre\",\n",
    "    values=\"loan_id\",\n",
    "    aggfunc=\"nunique\",\n",
    "    fill_value=0,\n",
    "    margins=True\n",
    ")\n",
    "\n",
    "piv.to_csv(\"data/pivot_branch_x_genre.csv\")\n",
    "piv.head()"
   ]
  },
  {
   "cell_type": "code",
   "execution_count": 7,
   "id": "6e2686a0",
   "metadata": {},
   "outputs": [
    {
     "data": {
      "text/plain": [
       "(       genre  loans\n",
       " 0    Fiction      7\n",
       " 1  Biography      4\n",
       " 2    Fantasy      4,\n",
       "             branch  loans\n",
       " 0     Lund Central      8\n",
       " 1  Stockholm Söder      6\n",
       " 2       Malmö City      6)"
      ]
     },
     "execution_count": 7,
     "metadata": {},
     "output_type": "execute_result"
    }
   ],
   "source": [
    "M.top3_genres(df), M.top3_branches(df)"
   ]
  },
  {
   "cell_type": "markdown",
   "id": "c3bd4b2d",
   "metadata": {},
   "source": [
    "## Rekommendationer:\n",
    "- Stärk inköp i Fiction - Högst efterfrågan\n",
    "- Bemanna extra i Lund Central under månader med toppar.\n",
    "- Följ upp övertidsandelen (nu 50%): förbättra påminnelser."
   ]
  }
 ],
 "metadata": {
  "kernelspec": {
   "display_name": ".venv",
   "language": "python",
   "name": "python3"
  },
  "language_info": {
   "codemirror_mode": {
    "name": "ipython",
    "version": 3
   },
   "file_extension": ".py",
   "mimetype": "text/x-python",
   "name": "python",
   "nbconvert_exporter": "python",
   "pygments_lexer": "ipython3",
   "version": "3.13.7"
  }
 },
 "nbformat": 4,
 "nbformat_minor": 5
}

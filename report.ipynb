{
 "cells": [
  {
   "cell_type": "code",
   "execution_count": 2,
   "id": "03f83f92",
   "metadata": {},
   "outputs": [
    {
     "name": "stdout",
     "output_type": "stream",
     "text": [
      "<class 'pandas.core.frame.DataFrame'>\n",
      "RangeIndex: 30 entries, 0 to 29\n",
      "Data columns (total 12 columns):\n",
      " #   Column            Non-Null Count  Dtype         \n",
      "---  ------            --------------  -----         \n",
      " 0   loan_id           30 non-null     object        \n",
      " 1   checkout_date     30 non-null     datetime64[ns]\n",
      " 2   branch            30 non-null     object        \n",
      " 3   genre             30 non-null     object        \n",
      " 4   item_type         30 non-null     object        \n",
      " 5   patron_age_group  30 non-null     object        \n",
      " 6   loan_days         30 non-null     int64         \n",
      " 7   returned_date     30 non-null     datetime64[ns]\n",
      " 8   overdue_days      30 non-null     int64         \n",
      " 9   fine_amount       30 non-null     float64       \n",
      " 10  month             30 non-null     datetime64[ns]\n",
      " 11  week              30 non-null     datetime64[ns]\n",
      "dtypes: datetime64[ns](4), float64(1), int64(2), object(5)\n",
      "memory usage: 2.9+ KB\n"
     ]
    }
   ],
   "source": [
    "from src.io_utils import load_data, coerce_numeric\n",
    "\n",
    "df = coerce_numeric(load_data(\"data/library_loans.csv\"))\n",
    "df = df.dropna(subset=[\"loan_days\"]).copy()\n",
    "df = df[df[\"loan_days\"] > 0].copy()\n",
    "\n",
    "df[\"month\"] = df[\"checkout_date\"].dt.to_period(\"M\").dt.to_timestamp()\n",
    "df[\"week\"] = df[\"checkout_date\"].dt.to_period(\"W\").dt.start_time\n",
    "\n",
    "df.info()\n",
    "# df.head(3)\n"
   ]
  },
  {
   "cell_type": "code",
   "execution_count": 3,
   "id": "963f7ca0",
   "metadata": {},
   "outputs": [
    {
     "name": "stdout",
     "output_type": "stream",
     "text": [
      "Totalt antal lån: 30\n",
      "Genomsnittlig lånetid (dagar:) 15.6\n",
      "Andel övertid (%) 50.0%\n"
     ]
    }
   ],
   "source": [
    "from src import metrics as M\n",
    "\n",
    "print(\"Totalt antal lån:\", M.total_loans(df))\n",
    "print(\"Genomsnittlig lånetid (dagar:)\", f\"{M.avg_loan_days(df):.1f}\")\n",
    "print(\"Andel övertid (%)\", f\"{100 * M.overdue_rate(df):.1f}%\")"
   ]
  },
  {
   "cell_type": "code",
   "execution_count": 4,
   "id": "2bea0a49",
   "metadata": {},
   "outputs": [
    {
     "data": {
      "text/html": [
       "<div>\n",
       "<style scoped>\n",
       "    .dataframe tbody tr th:only-of-type {\n",
       "        vertical-align: middle;\n",
       "    }\n",
       "\n",
       "    .dataframe tbody tr th {\n",
       "        vertical-align: top;\n",
       "    }\n",
       "\n",
       "    .dataframe thead th {\n",
       "        text-align: right;\n",
       "    }\n",
       "</style>\n",
       "<table border=\"1\" class=\"dataframe\">\n",
       "  <thead>\n",
       "    <tr style=\"text-align: right;\">\n",
       "      <th></th>\n",
       "      <th>branch</th>\n",
       "      <th>loans</th>\n",
       "    </tr>\n",
       "  </thead>\n",
       "  <tbody>\n",
       "    <tr>\n",
       "      <th>0</th>\n",
       "      <td>Lund Central</td>\n",
       "      <td>8</td>\n",
       "    </tr>\n",
       "    <tr>\n",
       "      <th>1</th>\n",
       "      <td>Stockholm Söder</td>\n",
       "      <td>6</td>\n",
       "    </tr>\n",
       "    <tr>\n",
       "      <th>2</th>\n",
       "      <td>Malmö City</td>\n",
       "      <td>6</td>\n",
       "    </tr>\n",
       "    <tr>\n",
       "      <th>3</th>\n",
       "      <td>Göteborg Centrum</td>\n",
       "      <td>5</td>\n",
       "    </tr>\n",
       "    <tr>\n",
       "      <th>4</th>\n",
       "      <td>Uppsala Stadsbibliotek</td>\n",
       "      <td>5</td>\n",
       "    </tr>\n",
       "  </tbody>\n",
       "</table>\n",
       "</div>"
      ],
      "text/plain": [
       "                   branch  loans\n",
       "0            Lund Central      8\n",
       "1         Stockholm Söder      6\n",
       "2              Malmö City      6\n",
       "3        Göteborg Centrum      5\n",
       "4  Uppsala Stadsbibliotek      5"
      ]
     },
     "execution_count": 4,
     "metadata": {},
     "output_type": "execute_result"
    }
   ],
   "source": [
    "by_genre = M.loans_by_genre(df)\n",
    "by_branch = M.loans_by_branch(df)\n",
    "by_genre\n",
    "by_branch"
   ]
  },
  {
   "cell_type": "code",
   "execution_count": null,
   "id": "7ce534aa",
   "metadata": {},
   "outputs": [
    {
     "name": "stderr",
     "output_type": "stream",
     "text": [
      "c:\\Users\\magda\\OneDrive\\Desktop\\EDA - Bibliotek\\src\\metrics.py:42: FutureWarning: 'M' is deprecated and will be removed in a future version, please use 'ME' instead.\n",
      "  .resample(freq)[\"loan_id\"]\n"
     ]
    },
    {
     "data": {
      "text/html": [
       "<div>\n",
       "<style scoped>\n",
       "    .dataframe tbody tr th:only-of-type {\n",
       "        vertical-align: middle;\n",
       "    }\n",
       "\n",
       "    .dataframe tbody tr th {\n",
       "        vertical-align: top;\n",
       "    }\n",
       "\n",
       "    .dataframe thead th {\n",
       "        text-align: right;\n",
       "    }\n",
       "</style>\n",
       "<table border=\"1\" class=\"dataframe\">\n",
       "  <thead>\n",
       "    <tr style=\"text-align: right;\">\n",
       "      <th></th>\n",
       "      <th>checkout_date</th>\n",
       "      <th>loans</th>\n",
       "    </tr>\n",
       "  </thead>\n",
       "  <tbody>\n",
       "    <tr>\n",
       "      <th>0</th>\n",
       "      <td>2025-01-31</td>\n",
       "      <td>3</td>\n",
       "    </tr>\n",
       "    <tr>\n",
       "      <th>1</th>\n",
       "      <td>2025-02-28</td>\n",
       "      <td>5</td>\n",
       "    </tr>\n",
       "    <tr>\n",
       "      <th>2</th>\n",
       "      <td>2025-03-31</td>\n",
       "      <td>4</td>\n",
       "    </tr>\n",
       "    <tr>\n",
       "      <th>3</th>\n",
       "      <td>2025-04-30</td>\n",
       "      <td>2</td>\n",
       "    </tr>\n",
       "    <tr>\n",
       "      <th>4</th>\n",
       "      <td>2025-05-31</td>\n",
       "      <td>1</td>\n",
       "    </tr>\n",
       "  </tbody>\n",
       "</table>\n",
       "</div>"
      ],
      "text/plain": [
       "  checkout_date  loans\n",
       "0    2025-01-31      3\n",
       "1    2025-02-28      5\n",
       "2    2025-03-31      4\n",
       "3    2025-04-30      2\n",
       "4    2025-05-31      1"
      ]
     },
     "execution_count": 7,
     "metadata": {},
     "output_type": "execute_result"
    }
   ],
   "source": [
    "ts_month = M.loans_over_time(df, freq=\"M\")\n",
    "ts_month.head()"
   ]
  }
 ],
 "metadata": {
  "kernelspec": {
   "display_name": ".venv",
   "language": "python",
   "name": "python3"
  },
  "language_info": {
   "codemirror_mode": {
    "name": "ipython",
    "version": 3
   },
   "file_extension": ".py",
   "mimetype": "text/x-python",
   "name": "python",
   "nbconvert_exporter": "python",
   "pygments_lexer": "ipython3",
   "version": "3.13.7"
  }
 },
 "nbformat": 4,
 "nbformat_minor": 5
}
